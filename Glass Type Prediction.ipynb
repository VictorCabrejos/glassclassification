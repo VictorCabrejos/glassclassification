{
 "cells": [
  {
   "cell_type": "code",
   "execution_count": 73,
   "metadata": {},
   "outputs": [],
   "source": [
    "import pandas as pd\n",
    "import numpy as np"
   ]
  },
  {
   "cell_type": "code",
   "execution_count": 74,
   "metadata": {},
   "outputs": [
    {
     "data": {
      "text/html": [
       "<div>\n",
       "<style scoped>\n",
       "    .dataframe tbody tr th:only-of-type {\n",
       "        vertical-align: middle;\n",
       "    }\n",
       "\n",
       "    .dataframe tbody tr th {\n",
       "        vertical-align: top;\n",
       "    }\n",
       "\n",
       "    .dataframe thead th {\n",
       "        text-align: right;\n",
       "    }\n",
       "</style>\n",
       "<table border=\"1\" class=\"dataframe\">\n",
       "  <thead>\n",
       "    <tr style=\"text-align: right;\">\n",
       "      <th></th>\n",
       "      <th>1.52777</th>\n",
       "      <th>12.64</th>\n",
       "      <th>0</th>\n",
       "      <th>0.67</th>\n",
       "      <th>72.02</th>\n",
       "      <th>0.06</th>\n",
       "      <th>14.4</th>\n",
       "      <th>0.1</th>\n",
       "      <th>0.2</th>\n",
       "      <th>2</th>\n",
       "    </tr>\n",
       "  </thead>\n",
       "  <tbody>\n",
       "    <tr>\n",
       "      <th>0</th>\n",
       "      <td>1.51909</td>\n",
       "      <td>13.89</td>\n",
       "      <td>3.53</td>\n",
       "      <td>1.32</td>\n",
       "      <td>71.81</td>\n",
       "      <td>0.51</td>\n",
       "      <td>8.78</td>\n",
       "      <td>0.11</td>\n",
       "      <td>0.00</td>\n",
       "      <td>1</td>\n",
       "    </tr>\n",
       "    <tr>\n",
       "      <th>1</th>\n",
       "      <td>1.51837</td>\n",
       "      <td>13.14</td>\n",
       "      <td>2.84</td>\n",
       "      <td>1.28</td>\n",
       "      <td>72.85</td>\n",
       "      <td>0.55</td>\n",
       "      <td>9.07</td>\n",
       "      <td>0.00</td>\n",
       "      <td>0.00</td>\n",
       "      <td>1</td>\n",
       "    </tr>\n",
       "    <tr>\n",
       "      <th>2</th>\n",
       "      <td>1.52739</td>\n",
       "      <td>11.02</td>\n",
       "      <td>0.00</td>\n",
       "      <td>0.75</td>\n",
       "      <td>73.08</td>\n",
       "      <td>0.00</td>\n",
       "      <td>14.96</td>\n",
       "      <td>0.00</td>\n",
       "      <td>0.00</td>\n",
       "      <td>2</td>\n",
       "    </tr>\n",
       "    <tr>\n",
       "      <th>3</th>\n",
       "      <td>1.52020</td>\n",
       "      <td>13.98</td>\n",
       "      <td>1.35</td>\n",
       "      <td>1.63</td>\n",
       "      <td>71.76</td>\n",
       "      <td>0.39</td>\n",
       "      <td>10.56</td>\n",
       "      <td>0.00</td>\n",
       "      <td>0.18</td>\n",
       "      <td>2</td>\n",
       "    </tr>\n",
       "    <tr>\n",
       "      <th>4</th>\n",
       "      <td>1.51721</td>\n",
       "      <td>12.87</td>\n",
       "      <td>3.48</td>\n",
       "      <td>1.33</td>\n",
       "      <td>73.04</td>\n",
       "      <td>0.56</td>\n",
       "      <td>8.43</td>\n",
       "      <td>0.00</td>\n",
       "      <td>0.00</td>\n",
       "      <td>1</td>\n",
       "    </tr>\n",
       "  </tbody>\n",
       "</table>\n",
       "</div>"
      ],
      "text/plain": [
       "   1.52777  12.64     0  0.67  72.02  0.06   14.4   0.1   0.2  2\n",
       "0  1.51909  13.89  3.53  1.32  71.81  0.51   8.78  0.11  0.00  1\n",
       "1  1.51837  13.14  2.84  1.28  72.85  0.55   9.07  0.00  0.00  1\n",
       "2  1.52739  11.02  0.00  0.75  73.08  0.00  14.96  0.00  0.00  2\n",
       "3  1.52020  13.98  1.35  1.63  71.76  0.39  10.56  0.00  0.18  2\n",
       "4  1.51721  12.87  3.48  1.33  73.04  0.56   8.43  0.00  0.00  1"
      ]
     },
     "execution_count": 74,
     "metadata": {},
     "output_type": "execute_result"
    }
   ],
   "source": [
    "df = pd.read_csv(\"glass data short.csv\")\n",
    "df.head()"
   ]
  },
  {
   "cell_type": "markdown",
   "metadata": {},
   "source": [
    "Attribute Information:\n",
    "\n",
    "    . RI: refractive index\n",
    "    . Na: Sodium (unit measurement: weight percent in corresponding oxide)\n",
    "    . Mg: Magnesium\n",
    "    . Al: Aluminum\n",
    "    . Si: Silicon\n",
    "    . K: Potassium\n",
    "    . Ca: Calcium\n",
    "    . Ba: Barium\n",
    "    . Fe: Iron\n",
    "    \n",
    "Type of glass: (class attribute) \n",
    "\n",
    "    . Window:\n",
    "    -- 1 building_windows_float_processed \n",
    "    -- 2 building_windows_non_float_processed \n",
    "    \n",
    "    . Non-Window:\n",
    "    -- 6 tableware "
   ]
  },
  {
   "cell_type": "code",
   "execution_count": 75,
   "metadata": {},
   "outputs": [],
   "source": [
    "df.columns = [\"ri\", \"na\", \"mg\", \"al\", \"si\", \"k\", \"ca\", \"ba\", \"fe\", \"glass_type\"]"
   ]
  },
  {
   "cell_type": "code",
   "execution_count": 76,
   "metadata": {},
   "outputs": [
    {
     "data": {
      "text/html": [
       "<div>\n",
       "<style scoped>\n",
       "    .dataframe tbody tr th:only-of-type {\n",
       "        vertical-align: middle;\n",
       "    }\n",
       "\n",
       "    .dataframe tbody tr th {\n",
       "        vertical-align: top;\n",
       "    }\n",
       "\n",
       "    .dataframe thead th {\n",
       "        text-align: right;\n",
       "    }\n",
       "</style>\n",
       "<table border=\"1\" class=\"dataframe\">\n",
       "  <thead>\n",
       "    <tr style=\"text-align: right;\">\n",
       "      <th></th>\n",
       "      <th>ri</th>\n",
       "      <th>na</th>\n",
       "      <th>mg</th>\n",
       "      <th>al</th>\n",
       "      <th>si</th>\n",
       "      <th>k</th>\n",
       "      <th>ca</th>\n",
       "      <th>ba</th>\n",
       "      <th>fe</th>\n",
       "      <th>glass_type</th>\n",
       "    </tr>\n",
       "  </thead>\n",
       "  <tbody>\n",
       "    <tr>\n",
       "      <th>0</th>\n",
       "      <td>1.51909</td>\n",
       "      <td>13.89</td>\n",
       "      <td>3.53</td>\n",
       "      <td>1.32</td>\n",
       "      <td>71.81</td>\n",
       "      <td>0.51</td>\n",
       "      <td>8.78</td>\n",
       "      <td>0.11</td>\n",
       "      <td>0.00</td>\n",
       "      <td>1</td>\n",
       "    </tr>\n",
       "    <tr>\n",
       "      <th>1</th>\n",
       "      <td>1.51837</td>\n",
       "      <td>13.14</td>\n",
       "      <td>2.84</td>\n",
       "      <td>1.28</td>\n",
       "      <td>72.85</td>\n",
       "      <td>0.55</td>\n",
       "      <td>9.07</td>\n",
       "      <td>0.00</td>\n",
       "      <td>0.00</td>\n",
       "      <td>1</td>\n",
       "    </tr>\n",
       "    <tr>\n",
       "      <th>2</th>\n",
       "      <td>1.52739</td>\n",
       "      <td>11.02</td>\n",
       "      <td>0.00</td>\n",
       "      <td>0.75</td>\n",
       "      <td>73.08</td>\n",
       "      <td>0.00</td>\n",
       "      <td>14.96</td>\n",
       "      <td>0.00</td>\n",
       "      <td>0.00</td>\n",
       "      <td>2</td>\n",
       "    </tr>\n",
       "    <tr>\n",
       "      <th>3</th>\n",
       "      <td>1.52020</td>\n",
       "      <td>13.98</td>\n",
       "      <td>1.35</td>\n",
       "      <td>1.63</td>\n",
       "      <td>71.76</td>\n",
       "      <td>0.39</td>\n",
       "      <td>10.56</td>\n",
       "      <td>0.00</td>\n",
       "      <td>0.18</td>\n",
       "      <td>2</td>\n",
       "    </tr>\n",
       "    <tr>\n",
       "      <th>4</th>\n",
       "      <td>1.51721</td>\n",
       "      <td>12.87</td>\n",
       "      <td>3.48</td>\n",
       "      <td>1.33</td>\n",
       "      <td>73.04</td>\n",
       "      <td>0.56</td>\n",
       "      <td>8.43</td>\n",
       "      <td>0.00</td>\n",
       "      <td>0.00</td>\n",
       "      <td>1</td>\n",
       "    </tr>\n",
       "  </tbody>\n",
       "</table>\n",
       "</div>"
      ],
      "text/plain": [
       "        ri     na    mg    al     si     k     ca    ba    fe  glass_type\n",
       "0  1.51909  13.89  3.53  1.32  71.81  0.51   8.78  0.11  0.00           1\n",
       "1  1.51837  13.14  2.84  1.28  72.85  0.55   9.07  0.00  0.00           1\n",
       "2  1.52739  11.02  0.00  0.75  73.08  0.00  14.96  0.00  0.00           2\n",
       "3  1.52020  13.98  1.35  1.63  71.76  0.39  10.56  0.00  0.18           2\n",
       "4  1.51721  12.87  3.48  1.33  73.04  0.56   8.43  0.00  0.00           1"
      ]
     },
     "execution_count": 76,
     "metadata": {},
     "output_type": "execute_result"
    }
   ],
   "source": [
    "df.head()"
   ]
  },
  {
   "cell_type": "code",
   "execution_count": 77,
   "metadata": {},
   "outputs": [
    {
     "data": {
      "text/plain": [
       "array([1, 2, 6], dtype=int64)"
      ]
     },
     "execution_count": 77,
     "metadata": {},
     "output_type": "execute_result"
    }
   ],
   "source": [
    "np.unique(df[\"glass_type\"])"
   ]
  },
  {
   "cell_type": "code",
   "execution_count": 78,
   "metadata": {},
   "outputs": [
    {
     "data": {
      "text/plain": [
       "(173, 10)"
      ]
     },
     "execution_count": 78,
     "metadata": {},
     "output_type": "execute_result"
    }
   ],
   "source": [
    "df.shape"
   ]
  },
  {
   "cell_type": "code",
   "execution_count": 79,
   "metadata": {},
   "outputs": [
    {
     "data": {
      "text/plain": [
       "(173, 9)"
      ]
     },
     "execution_count": 79,
     "metadata": {},
     "output_type": "execute_result"
    }
   ],
   "source": [
    "feature_names = [\"ri\", \"na\", \"mg\", \"al\", \"si\", \"k\", \"ca\", \"ba\", \"fe\"]\n",
    "X = df[feature_names]\n",
    "X.shape"
   ]
  },
  {
   "cell_type": "code",
   "execution_count": 80,
   "metadata": {},
   "outputs": [
    {
     "data": {
      "text/plain": [
       "(173,)"
      ]
     },
     "execution_count": 80,
     "metadata": {},
     "output_type": "execute_result"
    }
   ],
   "source": [
    "y = df[\"glass_type\"]\n",
    "y.shape"
   ]
  },
  {
   "cell_type": "code",
   "execution_count": 81,
   "metadata": {},
   "outputs": [],
   "source": [
    "# Splitting the data into training / testing data\n",
    "\n",
    "from sklearn.model_selection import train_test_split\n",
    "\n",
    "X_train, X_test, y_train, y_test = train_test_split(X, y, train_size=0.8,test_size=0.2)"
   ]
  },
  {
   "cell_type": "code",
   "execution_count": 82,
   "metadata": {},
   "outputs": [
    {
     "name": "stdout",
     "output_type": "stream",
     "text": [
      "(173, 9) (138, 9) (35, 9)\n"
     ]
    }
   ],
   "source": [
    "print(X.shape, X_train.shape, X_test.shape)"
   ]
  },
  {
   "cell_type": "code",
   "execution_count": 83,
   "metadata": {},
   "outputs": [
    {
     "data": {
      "text/plain": [
       "StandardScaler(copy=True, with_mean=True, with_std=True)"
      ]
     },
     "execution_count": 83,
     "metadata": {},
     "output_type": "execute_result"
    }
   ],
   "source": [
    "# Scaling and Standardizing the data\n",
    "from sklearn.preprocessing import StandardScaler\n",
    "sc = StandardScaler()\n",
    "sc.fit(X_train)"
   ]
  },
  {
   "cell_type": "code",
   "execution_count": 84,
   "metadata": {},
   "outputs": [],
   "source": [
    "X_train_std = sc.transform(X_train)\n",
    "X_test_std = sc.transform(X_test)"
   ]
  },
  {
   "cell_type": "code",
   "execution_count": 85,
   "metadata": {},
   "outputs": [
    {
     "name": "stdout",
     "output_type": "stream",
     "text": [
      "Unique labels: [1 2 6]\n"
     ]
    }
   ],
   "source": [
    "# Class Labels\n",
    "print(f\"Unique labels: {np.unique(y)}\")"
   ]
  },
  {
   "cell_type": "code",
   "execution_count": 86,
   "metadata": {},
   "outputs": [],
   "source": [
    "# Setting number of Iterations\n",
    "\n",
    "n_iter = 40\n",
    "eta0   = 0.1 # Learning rate\n",
    "\n",
    "# Importing Perceptron model\n",
    "\n",
    "from sklearn.linear_model import Perceptron\n",
    "\n",
    "ppn = Perceptron(max_iter=n_iter, eta0=eta0)"
   ]
  },
  {
   "cell_type": "code",
   "execution_count": 87,
   "metadata": {},
   "outputs": [
    {
     "data": {
      "text/plain": [
       "Perceptron(alpha=0.0001, class_weight=None, early_stopping=False, eta0=0.1,\n",
       "           fit_intercept=True, max_iter=40, n_iter_no_change=5, n_jobs=None,\n",
       "           penalty=None, random_state=0, shuffle=True, tol=0.001,\n",
       "           validation_fraction=0.1, verbose=0, warm_start=False)"
      ]
     },
     "execution_count": 87,
     "metadata": {},
     "output_type": "execute_result"
    }
   ],
   "source": [
    "# Fitting Class Labels / Fitting the Model\n",
    "\n",
    "ppn.fit(X_train_std, y_train) "
   ]
  },
  {
   "cell_type": "code",
   "execution_count": 88,
   "metadata": {},
   "outputs": [],
   "source": [
    "# Making the predictions\n",
    "\n",
    "y_pred = ppn.predict(X_test_std)"
   ]
  },
  {
   "cell_type": "code",
   "execution_count": 89,
   "metadata": {},
   "outputs": [
    {
     "name": "stdout",
     "output_type": "stream",
     "text": [
      "Accuracy: 51.43%\n",
      "\n",
      "Coefficient of determination, R2: 0.55\n",
      "\n",
      "Confusion Matrix: \n",
      " [[ 7  5  0]\n",
      " [10  6  1]\n",
      " [ 0  1  5]]\n",
      "\n",
      "Accuracy from Scikit-Learn =  0.5142857142857142 \n",
      "\n",
      "Predicted   1   2  6  All\n",
      "True                     \n",
      "1           7   5  0   12\n",
      "2          10   6  1   17\n",
      "6           0   1  5    6\n",
      "All        17  12  6   35\n",
      "\n",
      "Accuracy per Class: \n",
      "               precision    recall  f1-score   support\n",
      "\n",
      "      Type 1       0.41      0.58      0.48        12\n",
      "      Type 2       0.50      0.35      0.41        17\n",
      "      Type 6       0.83      0.83      0.83         6\n",
      "\n",
      "    accuracy                           0.51        35\n",
      "   macro avg       0.58      0.59      0.58        35\n",
      "weighted avg       0.53      0.51      0.51        35\n",
      "\n"
     ]
    }
   ],
   "source": [
    "# Report the following:\n",
    "# . Coefficient of determination, R2\n",
    "# . number of records in each class and accuracy of class assignment\n",
    "# . overall accuracy\n",
    "# . 3-way confusion matrix as shown below\n",
    "\n",
    "# Importing reporting / metrics libraries\n",
    "\n",
    "from sklearn.metrics import classification_report\n",
    "from sklearn.metrics import accuracy_score\n",
    "from sklearn.metrics import confusion_matrix\n",
    "from sklearn.metrics import r2_score\n",
    "\n",
    "# Model Accuracy\n",
    "print(\"Accuracy: {0:.2f}%\".format(accuracy_score(y_test, y_pred) * 100))\n",
    "\n",
    "# Coefficient of Determination\n",
    "print(\"\\nCoefficient of determination, R2: {0:.2f}\".format(r2_score(y_test, y_pred)))\n",
    "\n",
    "# 3-way Confusion Matrix\n",
    "# Number of records in each class\n",
    "print(\"\\nConfusion Matrix: \\n\",confusion_matrix(y_test,y_pred))\n",
    "\n",
    "# Overall Accuracy\n",
    "accuracy1 = metrics.accuracy_score(y_test, y_pred)\n",
    "print(\"\\nAccuracy from Scikit-Learn = \", accuracy1, \"\\n\")\n",
    "\n",
    "# Confusion Matrix made by Pandas\n",
    "print(pd.crosstab(y_test, y_pred, rownames=['True'], colnames=['Predicted'], margins=True))\n",
    "\n",
    "# Accuracy of class assignment\n",
    "target_names = ['Type 1', 'Type 2', 'Type 6']\n",
    "print(\"\\nAccuracy per Class: \\n\", classification_report(y_test, y_pred, target_names=target_names))"
   ]
  },
  {
   "cell_type": "markdown",
   "metadata": {},
   "source": [
    "###  Below still under work"
   ]
  },
  {
   "cell_type": "code",
   "execution_count": null,
   "metadata": {},
   "outputs": [],
   "source": [
    "class NewPerceptron():\n",
    "\n",
    "  def __init__(self):\n",
    "    def sigmoid(self, x):\n",
    "        return 1 / (1 + np.exp(-x))\n",
    "    \n",
    "    \n",
    "    def feedforward(self,X):\n",
    "        #X = self.add_bias(X)\n",
    "        z = np.dot(X, self.w)\n",
    "        h = self.sigmoid(z)\n",
    "        return(h)\n",
    "    \n",
    "    # Defining the Cost function (the Error)\n",
    "    # using the Cross Entropy function\n",
    "    def error(self,h, y):\n",
    "        error = (-y * np.log(h) - (1 - y) * np.log(1 - h)).mean()\n",
    "        self.E = np.append(self.E, error)\n",
    "    \n",
    "    \n",
    "    def backprop(self,X,y,h):\n",
    "        self.delta_E_w = np.dot(X.T,h-y) / self.outputLayer\n",
    "        \n",
    "        # Store All weights throughout learning\n",
    "        self.w_list.append(self.w)\n",
    "        \n",
    "        # Adjust weights\n",
    "        self.w = self.w - eta * self.delta_E_w\n",
    "        \n",
    "        \n",
    "    def train(self,X,y):\n",
    "        for epoch in range(epochs):\n",
    "          # Forward pass\n",
    "          h = self.feedforward(X)\n",
    "\n",
    "          # Backpropagation - Calculate Weight adjustments and update weights\n",
    "          self.backprop(X,y,h)\n",
    "\n",
    "          # Calculate error based on the Cross Entropy Loss function\n",
    "          self.error(h, y)\n",
    "        \n",
    "        \n",
    "    def predict(self, X):\n",
    "        # Forward pass\n",
    "        pred = self.feedforward(X)\n",
    "        return pred\n",
    "    \n",
    "    def classify(self, y):\n",
    "        return self.predict(y).round()"
   ]
  },
  {
   "cell_type": "code",
   "execution_count": null,
   "metadata": {},
   "outputs": [],
   "source": [
    "# Learning Rate\n",
    "eta = 0.001\n",
    "# Number of epochs for learning\n",
    "epochs = 10000\n",
    "# Input layer\n",
    "inputLayer = X.shape[1]\n",
    "# Output Layer\n",
    "outputLayer = 1"
   ]
  },
  {
   "cell_type": "code",
   "execution_count": null,
   "metadata": {},
   "outputs": [],
   "source": [
    "# Initiate Single Perceptron NN\n",
    "SPNN = LogisticRegressionSinglePerceptronModel(eta, inputLayer, outputLayer)\n",
    "# Train SPNN for Linear Regression Model\n",
    "%time SPNN.train(X, y)\n",
    "# Plot Error\n",
    "SPNN.plot()\n",
    "# Predict output based on test set\n",
    "pred = SPNN.predict(X)\n",
    "# Generate classified output\n",
    "pred2 = SPNN.classify(X)\n",
    "# Assess Model accuracy\n",
    "print(\"Minimum Error achieved:\", min(SPNN.E))\n",
    "# SPNN weights\n",
    "SPNN.w"
   ]
  }
 ],
 "metadata": {
  "kernelspec": {
   "display_name": "Python 3",
   "language": "python",
   "name": "python3"
  },
  "language_info": {
   "codemirror_mode": {
    "name": "ipython",
    "version": 3
   },
   "file_extension": ".py",
   "mimetype": "text/x-python",
   "name": "python",
   "nbconvert_exporter": "python",
   "pygments_lexer": "ipython3",
   "version": "3.7.3"
  }
 },
 "nbformat": 4,
 "nbformat_minor": 2
}
